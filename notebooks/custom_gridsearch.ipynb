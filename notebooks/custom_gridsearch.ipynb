{
 "cells": [
  {
   "cell_type": "code",
   "execution_count": 1,
   "id": "a39bd8d1-0444-4265-9a49-a003322ca609",
   "metadata": {},
   "outputs": [],
   "source": [
    "import pandas as pd\n",
    "\n",
    "from sklearn.metrics import accuracy_score, make_scorer, precision_recall_fscore_support\n",
    "from sklearn.model_selection import StratifiedKFold\n",
    "\n",
    "import sys\n",
    "import time\n",
    "\n",
    "sys.path.insert(1, \"../src\")\n",
    "from knn import *\n",
    "from pca import *\n",
    "\n",
    "N_SPLITS = 10\n",
    "\n",
    "train = pd.read_csv(\"../data/train.csv\")[:1000]\n",
    "\n",
    "X = train.drop(columns='label').to_numpy()\n",
    "y = train.label.to_numpy()"
   ]
  },
  {
   "cell_type": "code",
   "execution_count": 6,
   "id": "13dced98-a16d-47c9-9f37-d2a9d7d535f6",
   "metadata": {},
   "outputs": [
    {
     "name": "stdout",
     "output_type": "stream",
     "text": [
      "Running gridsearch for: k=2 - alpha=10\n",
      "\tSplits:\n",
      "\t\t0 time:\t\t5.9413\n",
      "\t\t1 time:\t\t6.9426\n",
      "\t\t2 time:\t\t6.1366\n",
      "\t\t3 time:\t\t6.0918\n",
      "\t\t4 time:\t\t5.2989\n",
      "\t\t5 time:\t\t"
     ]
    },
    {
     "ename": "KeyboardInterrupt",
     "evalue": "",
     "output_type": "error",
     "traceback": [
      "\u001b[0;31m---------------------------------------------------------------------------\u001b[0m",
      "\u001b[0;31mKeyboardInterrupt\u001b[0m                         Traceback (most recent call last)",
      "Input \u001b[0;32mIn [6]\u001b[0m, in \u001b[0;36m<cell line: 11>\u001b[0;34m()\u001b[0m\n\u001b[1;32m     24\u001b[0m _pca, _knn \u001b[38;5;241m=\u001b[39m PCA(alpha\u001b[38;5;241m=\u001b[39ma), KNNClassifier(k\u001b[38;5;241m=\u001b[39mk)\n\u001b[1;32m     26\u001b[0m _st \u001b[38;5;241m=\u001b[39m time\u001b[38;5;241m.\u001b[39mtime()\n\u001b[0;32m---> 28\u001b[0m \u001b[43m_pca\u001b[49m\u001b[38;5;241;43m.\u001b[39;49m\u001b[43mfit\u001b[49m\u001b[43m(\u001b[49m\u001b[43m_x_train\u001b[49m\u001b[43m)\u001b[49m\n\u001b[1;32m     29\u001b[0m _x_train_transformed \u001b[38;5;241m=\u001b[39m _pca\u001b[38;5;241m.\u001b[39mtransform(_x_train)\n\u001b[1;32m     30\u001b[0m _knn\u001b[38;5;241m.\u001b[39mfit(_x_train_transformed, _y_train)\n",
      "File \u001b[0;32m~/UBA/comp2022/MN/mn-tp2/notebooks/../src/pca.py:35\u001b[0m, in \u001b[0;36mPCA.fit\u001b[0;34m(self, X)\u001b[0m\n\u001b[1;32m     32\u001b[0m \u001b[38;5;28;01massert\u001b[39;00m \u001b[38;5;28mlen\u001b[39m(X) \u001b[38;5;241m>\u001b[39m \u001b[38;5;241m0\u001b[39m\n\u001b[1;32m     33\u001b[0m \u001b[38;5;28;01massert\u001b[39;00m \u001b[38;5;28mlen\u001b[39m(X[\u001b[38;5;241m0\u001b[39m]) \u001b[38;5;241m>\u001b[39m \u001b[38;5;241m0\u001b[39m\n\u001b[0;32m---> 35\u001b[0m \u001b[38;5;28;43mself\u001b[39;49m\u001b[38;5;241;43m.\u001b[39;49m\u001b[43mmodel\u001b[49m\u001b[38;5;241;43m.\u001b[39;49m\u001b[43mfit\u001b[49m\u001b[43m(\u001b[49m\u001b[43mX\u001b[49m\u001b[38;5;241;43m.\u001b[39;49m\u001b[43mtolist\u001b[49m\u001b[43m(\u001b[49m\u001b[43m)\u001b[49m\u001b[43m)\u001b[49m\n",
      "\u001b[0;31mKeyboardInterrupt\u001b[0m: "
     ]
    }
   ],
   "source": [
    "grid = {\n",
    "    \"k\": [2],\n",
    "    # \"k\": [2, 4, 6, 8, 10, 12, 14, 16, 18, 20],\n",
    "    \"alpha\": [10],\n",
    "    # \"alpha\": [10, 20, 30, 40, 50, 60, 70, 80, 90, 100, 110, 120, 130, 140, 153],\n",
    "}\n",
    "\n",
    "skf = StratifiedKFold(n_splits=N_SPLITS)\n",
    "splits = list(skf.split(X, y))\n",
    "\n",
    "metrics = dict()\n",
    "\n",
    "for k in grid[\"k\"]:\n",
    "    for a in grid[\"alpha\"]:\n",
    "        \n",
    "        score_values = []\n",
    "        time_values = []\n",
    "        print(f\"Running gridsearch for: k={k} - alpha={a}\")\n",
    "        \n",
    "        print(\"\\tSplits:\")\n",
    "        for idx, (train_index, test_index) in enumerate(splits):\n",
    "            print(f\"\\t\\t{idx} time:\", end=\"\\t\\t\")\n",
    "            _x_train, _y_train = X[train_index], y[train_index]\n",
    "            _x_test, _y_test = X[test_index], y[test_index]\n",
    "            \n",
    "            _pca, _knn = PCA(alpha=a), KNNClassifier(k=k)\n",
    "            \n",
    "            _st = time.time()\n",
    "            \n",
    "            _pca.fit(_x_train)\n",
    "            _x_train_transformed = _pca.transform(_x_train)\n",
    "            _knn.fit(_x_train_transformed, _y_train)\n",
    "            _x_test_transformed = _pca.transform(_x_test)\n",
    "            _pred = _knn.predict(_x_test_transformed)\n",
    "            \n",
    "            _et = time.time()\n",
    "            \n",
    "            print(f\"{(_et - _st):.4f}\")\n",
    "            \n",
    "            _metric = accuracy_score(_y_test, _pred)\n",
    "            score_values.append(_metric)\n",
    "            time_values.append(_et - _st)\n",
    "        \n",
    "        print(\"\")\n",
    "        \n",
    "        metrics[f\"{k} - {a}\"] = dict()\n",
    "        metrics[f\"{k} - {a}\"]['score'] = np.mean(score_values)\n",
    "        metrics[f\"{k} - {a}\"]['time'] = np.mean(time_values)\n",
    "        print(np.mean(score_values))"
   ]
  }
 ],
 "metadata": {
  "kernelspec": {
   "display_name": "Python 3 (ipykernel)",
   "language": "python",
   "name": "python3"
  },
  "language_info": {
   "codemirror_mode": {
    "name": "ipython",
    "version": 3
   },
   "file_extension": ".py",
   "mimetype": "text/x-python",
   "name": "python",
   "nbconvert_exporter": "python",
   "pygments_lexer": "ipython3",
   "version": "3.10.4+"
  }
 },
 "nbformat": 4,
 "nbformat_minor": 5
}
