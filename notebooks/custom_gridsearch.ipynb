{
 "cells": [
  {
   "cell_type": "code",
   "execution_count": 8,
   "metadata": {},
   "outputs": [],
   "source": [
    "import pandas as pd\n",
    "\n",
    "from sklearn.metrics import accuracy_score, make_scorer, precision_recall_fscore_support, cohen_kappa_score, precision_recall_fscore_support, f1_score, confusion_matrix\n",
    "from sklearn.model_selection import StratifiedKFold\n",
    "from joblib import Parallel, delayed\n",
    "\n",
    "import sys\n",
    "import time\n",
    "\n",
    "sys.path.insert(1, \"../src\")\n",
    "from knn import *\n",
    "from pca import *\n",
    "\n",
    "N_SPLITS = 2\n",
    "\n",
    "train = pd.read_csv(\"../data/train.csv\")[:1000]\n",
    "\n",
    "X = train.drop(columns='label').to_numpy()\n",
    "y = train.label.to_numpy()"
   ]
  },
  {
   "cell_type": "markdown",
   "metadata": {},
   "source": [
    "# Corremos un gridsearch sobre los parámetros de PCA+KNN (parámetros k y α)"
   ]
  },
  {
   "cell_type": "code",
   "execution_count": 9,
   "metadata": {},
   "outputs": [],
   "source": [
    "def grid_search_step(k, a, metrics):\n",
    "    score_values = []\n",
    "    cohen_kappa_values = []\n",
    "    precision_recall_values = []\n",
    "    f1_values = []\n",
    "    confusion_matrix_values = []\n",
    "    time_values = []\n",
    "    print(f\"Running gridsearch for: k={k} - alpha={a}\")\n",
    "\n",
    "    print(\"\\tSplits:\")\n",
    "    for idx, (train_index, test_index) in enumerate(splits):\n",
    "        print(f\"\\t\\t{idx} time:\", end=\"\\t\\t\")\n",
    "        _x_train, _y_train = X[train_index], y[train_index]\n",
    "        _x_test, _y_test = X[test_index], y[test_index]\n",
    "\n",
    "        _pca, _knn = PCA(alpha=a), KNNClassifier(k=k)\n",
    "\n",
    "        _st = time.time()\n",
    "\n",
    "        _pca.fit(_x_train)\n",
    "        _x_train_transformed = _pca.transform(_x_train)\n",
    "        _knn.fit(_x_train_transformed, _y_train)\n",
    "        _x_test_transformed = _pca.transform(_x_test)\n",
    "        _pred = _knn.predict(_x_test_transformed)\n",
    "\n",
    "        _et = time.time()\n",
    "\n",
    "        print(f\"{(_et - _st):.4f}\")\n",
    "\n",
    "        _score_metric = accuracy_score(_y_test, _pred)\n",
    "        _cohen_kappa_metric = cohen_kappa_score(_y_test, _pred)\n",
    "        _precision_recall_metric = precision_recall_fscore_support(_y_test, _pred)\n",
    "        _f1_metric = f1_score(_y_test, _pred, average='weighted')\n",
    "        _confusion_matrix_metric = confusion_matrix(_y_test, _pred)      \n",
    "\n",
    "        score_values.append(_score_metric)\n",
    "        cohen_kappa_values.append(_cohen_kappa_metric)\n",
    "        precision_recall_values.append(_precision_recall_metric)\n",
    "        f1_values.append(_f1_metric)\n",
    "        confusion_matrix_values.append(_confusion_matrix_metric)\n",
    "        time_values.append(_et - _st)\n",
    "\n",
    "    print(\"\")\n",
    "\n",
    "    metrics[f\"{k} - {a}\"] = dict()\n",
    "    metrics[f\"{k} - {a}\"]['score'] = np.mean(score_values)\n",
    "    metrics[f\"{k} - {a}\"]['cohen-kappa'] = np.mean(cohen_kappa_values)\n",
    "    metrics[f\"{k} - {a}\"]['recall'] = np.mean(precision_recall_values)\n",
    "    metrics[f\"{k} - {a}\"]['f1'] = np.mean(f1_values)\n",
    "    metrics[f\"{k} - {a}\"]['confusion-matrix'] = confusion_matrix_values\n",
    "    metrics[f\"{k} - {a}\"]['time'] = np.mean(time_values)\n",
    "    print(f\"\\tMean time: {np.mean(score_values)}\")"
   ]
  },
  {
   "cell_type": "code",
   "execution_count": 11,
   "metadata": {},
   "outputs": [
    {
     "name": "stdout",
     "output_type": "stream",
     "text": [
      "Running gridsearch for: k=2 - alpha=1\n",
      "\tSplits:\n",
      "\t\t0 time:\t\t0.9044\n",
      "\t\t1 time:\t\t0.7255\n",
      "\n",
      "\tMean time: 0.217\n",
      "Running gridsearch for: k=2 - alpha=2\n",
      "\tSplits:\n",
      "\t\t0 time:\t\t0.9661\n",
      "\t\t1 time:\t\t1.0620\n",
      "\n",
      "\tMean time: 0.36\n",
      "Running gridsearch for: k=2 - alpha=5\n",
      "\tSplits:\n",
      "\t\t0 time:\t\t2.0247\n",
      "\t\t1 time:\t\t2.2874\n",
      "\n",
      "\tMean time: 0.626\n"
     ]
    }
   ],
   "source": [
    "grid = {\n",
    "#       \"k\": [2, 4, 6, 8, 10, 12, 14, 16, 18, 20],\n",
    "#       \"alpha\": [10, 20, 30, 40, 50, 60, 70, 80, 90, 100, 110, 120, 130, 140, 153]\n",
    "    \"k\": [2],\n",
    "      \"alpha\": [1,2,5]\n",
    "}\n",
    "\n",
    "skf = StratifiedKFold(n_splits=N_SPLITS)\n",
    "splits = list(skf.split(X, y))\n",
    "\n",
    "metrics = dict()\n",
    "\n",
    "for k in grid[\"k\"]:\n",
    "    for a in grid[\"alpha\"]:\n",
    "        grid_search_step(k,a,metrics)"
   ]
  },
  {
   "cell_type": "code",
   "execution_count": 12,
   "metadata": {},
   "outputs": [
    {
     "data": {
      "text/plain": [
       "{'2 - 1': {'score': 0.217,\n",
       "  'cohen-kappa': 0.1285753377436878,\n",
       "  'recall': 12.658599553921587,\n",
       "  'f1': 0.21276196928464403,\n",
       "  'confusion-matrix': [array([[30,  0,  5,  2,  1,  4,  7,  2,  1,  2],\n",
       "          [ 0, 34,  0,  1,  0,  1,  0,  4,  0,  8],\n",
       "          [ 8,  3,  7,  5,  4,  7,  7,  7, 11,  3],\n",
       "          [ 1,  1,  6,  3,  5,  6,  9,  4,  6,  4],\n",
       "          [ 1,  3,  8, 10,  5,  7,  7,  4,  3,  3],\n",
       "          [ 5,  2,  6,  4,  8,  3,  6,  3,  3,  5],\n",
       "          [ 8,  2,  9,  5,  3,  2,  5,  3,  6,  5],\n",
       "          [ 1,  6,  6,  4,  3,  5,  2,  9,  8,  8],\n",
       "          [ 1,  1,  8,  4,  6,  5,  6,  5,  4,  6],\n",
       "          [ 2,  2,  4,  4,  7,  5,  3,  7,  5, 10]]),\n",
       "   array([[34,  0,  4,  5,  1,  1,  4,  0,  2,  2],\n",
       "          [ 0, 32,  3,  1,  0,  3,  1,  3,  2,  3],\n",
       "          [11,  0, 10,  7,  8,  7,  5,  4,  6,  4],\n",
       "          [ 3,  1, 11,  5,  4,  6,  5,  2,  5,  3],\n",
       "          [ 1,  1, 13,  7,  5,  2,  7,  3,  4,  8],\n",
       "          [ 5,  0, 10,  3,  4,  4,  5,  4,  1,  8],\n",
       "          [ 7,  1, 12,  8,  6,  4,  2,  2,  6,  1],\n",
       "          [ 2,  2,  6,  9,  5,  4,  3,  7,  5, 10],\n",
       "          [ 3,  0,  9,  3,  2,  2,  6, 10,  6,  6],\n",
       "          [ 1,  5,  7,  5,  9,  4,  1,  6,  8,  2]])],\n",
       "  'time': 0.8149524927139282},\n",
       " '2 - 2': {'score': 0.36,\n",
       "  'cohen-kappa': 0.2882126122892193,\n",
       "  'recall': 12.772403407434918,\n",
       "  'f1': 0.3623296519701036,\n",
       "  'confusion-matrix': [array([[30,  0,  4,  1,  0,  2, 10,  0,  7,  0],\n",
       "          [ 0, 42,  1,  0,  1,  0,  0,  1,  3,  0],\n",
       "          [ 3,  3, 16, 10,  1,  5, 15,  2,  6,  1],\n",
       "          [ 0,  2, 11, 12,  0,  6,  4,  0,  7,  3],\n",
       "          [ 0,  0,  3,  0, 12,  5,  4, 12,  7,  8],\n",
       "          [ 3,  0,  6,  8,  4,  7,  6,  1,  5,  5],\n",
       "          [ 7,  1, 12,  3,  1,  4, 17,  0,  3,  0],\n",
       "          [ 0,  1,  0,  0, 10,  2,  2, 19,  2, 16],\n",
       "          [ 0,  0,  8,  4,  2,  7, 11,  0, 13,  1],\n",
       "          [ 1,  1,  2,  0, 11,  5,  0, 18,  1, 10]]),\n",
       "   array([[32,  0,  7,  0,  0,  2,  9,  0,  2,  1],\n",
       "          [ 0, 39,  1,  1,  0,  2,  3,  0,  2,  0],\n",
       "          [ 7,  0, 15,  9,  4,  8,  8,  2,  7,  2],\n",
       "          [ 0,  2, 12, 20,  0,  5,  2,  0,  4,  0],\n",
       "          [ 0,  1,  1,  1, 18,  4,  3, 13,  3,  7],\n",
       "          [ 1,  0,  7,  1,  2, 12,  6,  4, 10,  1],\n",
       "          [ 8,  0,  9,  3,  3,  5,  7,  4, 10,  0],\n",
       "          [ 0,  1,  1,  2, 13,  1,  1, 18,  2, 14],\n",
       "          [ 6,  1,  8,  4,  0,  6, 13,  3,  4,  2],\n",
       "          [ 1,  0,  1,  0, 13,  4,  2,  8,  2, 17]])],\n",
       "  'time': 1.014012336730957},\n",
       " '2 - 5': {'score': 0.626,\n",
       "  'cohen-kappa': 0.5841801678400049,\n",
       "  'recall': 12.968115834013815,\n",
       "  'f1': 0.6251583832839532,\n",
       "  'confusion-matrix': [array([[47,  0,  0,  0,  1,  2,  2,  0,  1,  1],\n",
       "          [ 0, 46,  1,  0,  0,  0,  1,  0,  0,  0],\n",
       "          [ 1,  0, 42,  5,  4,  1,  5,  0,  3,  1],\n",
       "          [ 0,  0,  1, 32,  0,  2,  0,  1,  8,  1],\n",
       "          [ 0,  0,  3,  0, 28,  0,  3,  2,  4, 11],\n",
       "          [ 5,  1,  3,  5,  0, 18,  3,  1,  6,  3],\n",
       "          [ 3,  1,  3,  0,  3,  5, 31,  0,  1,  1],\n",
       "          [ 0,  1,  1,  1,  4,  2,  0, 28,  2, 13],\n",
       "          [ 0,  1,  2,  8,  2,  0,  1,  1, 31,  0],\n",
       "          [ 0,  0,  1,  1,  8,  0,  0,  8,  3, 28]]),\n",
       "   array([[45,  0,  1,  0,  0,  4,  2,  1,  0,  0],\n",
       "          [ 0, 42,  1,  0,  0,  0,  2,  0,  3,  0],\n",
       "          [ 2,  4, 33,  1,  1,  3, 12,  0,  5,  1],\n",
       "          [ 2,  0,  1, 25,  0,  7,  0,  0,  8,  2],\n",
       "          [ 0,  0,  2,  1, 27,  1,  3,  5,  1, 11],\n",
       "          [ 4,  0,  1,  4,  0, 21,  3,  4,  4,  3],\n",
       "          [ 0,  1, 13,  0,  3,  2, 23,  2,  5,  0],\n",
       "          [ 0,  1,  0,  0,  3,  1,  2, 31,  1, 14],\n",
       "          [ 3,  2,  1,  7,  1,  2,  3,  2, 24,  2],\n",
       "          [ 1,  0,  0,  0, 14,  2,  1,  6,  0, 24]])],\n",
       "  'time': 2.1560754776000977}}"
      ]
     },
     "execution_count": 12,
     "metadata": {},
     "output_type": "execute_result"
    }
   ],
   "source": [
    "metrics"
   ]
  },
  {
   "cell_type": "markdown",
   "metadata": {},
   "source": [
    "# Corremos un gridsearch sobre KNN (parámetro k)"
   ]
  },
  {
   "cell_type": "code",
   "execution_count": null,
   "metadata": {},
   "outputs": [],
   "source": [
    "471"
   ]
  }
 ],
 "metadata": {
  "kernelspec": {
   "display_name": "Python(3.10-dev)",
   "language": "python",
   "name": "python-3.10-dev"
  },
  "language_info": {
   "codemirror_mode": {
    "name": "ipython",
    "version": 3
   },
   "file_extension": ".py",
   "mimetype": "text/x-python",
   "name": "python",
   "nbconvert_exporter": "python",
   "pygments_lexer": "ipython3",
   "version": "3.10.4+"
  }
 },
 "nbformat": 4,
 "nbformat_minor": 5
}
