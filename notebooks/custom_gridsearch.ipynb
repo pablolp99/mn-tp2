{
 "cells": [
  {
   "cell_type": "code",
   "execution_count": 2,
   "id": "a39bd8d1-0444-4265-9a49-a003322ca609",
   "metadata": {},
   "outputs": [],
   "source": [
    "import pandas as pd\n",
    "\n",
    "from sklearn.metrics import accuracy_score, make_scorer, precision_recall_fscore_support\n",
    "from sklearn.model_selection import StratifiedKFold\n",
    "\n",
    "import sys\n",
    "import time\n",
    "\n",
    "sys.path.insert(1, \"../src\")\n",
    "from knn import *\n",
    "from pca import *\n",
    "\n",
    "N_SPLITS = 10\n",
    "\n",
    "train = pd.read_csv(\"../data/train.csv\")[:1000]\n",
    "\n",
    "X = train.drop(columns='label').to_numpy()\n",
    "y = train.label.to_numpy()"
   ]
  },
  {
   "cell_type": "code",
   "execution_count": 6,
   "id": "13dced98-a16d-47c9-9f37-d2a9d7d535f6",
   "metadata": {},
   "outputs": [
    {
     "name": "stdout",
     "output_type": "stream",
     "text": [
      "Running gridsearch for: k=2 - alpha=2\n",
      "<class 'numpy.ndarray'>\n",
      "Score: 0.35\n",
      "Running gridsearch for: k=2 - alpha=2\n",
      "<class 'numpy.ndarray'>\n",
      "Score: 0.34\n",
      "Running gridsearch for: k=2 - alpha=2\n",
      "<class 'numpy.ndarray'>\n",
      "Score: 0.37\n",
      "Running gridsearch for: k=2 - alpha=2\n",
      "<class 'numpy.ndarray'>\n",
      "Score: 0.42\n",
      "Running gridsearch for: k=2 - alpha=2\n",
      "<class 'numpy.ndarray'>\n",
      "Score: 0.39\n",
      "Running gridsearch for: k=2 - alpha=2\n",
      "<class 'numpy.ndarray'>\n",
      "Score: 0.43\n",
      "Running gridsearch for: k=2 - alpha=2\n",
      "<class 'numpy.ndarray'>\n",
      "Score: 0.29\n",
      "Running gridsearch for: k=2 - alpha=2\n",
      "<class 'numpy.ndarray'>\n",
      "Score: 0.35\n",
      "Running gridsearch for: k=2 - alpha=2\n",
      "<class 'numpy.ndarray'>\n",
      "Score: 0.53\n",
      "Running gridsearch for: k=2 - alpha=2\n",
      "<class 'numpy.ndarray'>\n",
      "Score: 0.34\n"
     ]
    }
   ],
   "source": [
    "grid = {\n",
    "    \"k\": [2],\n",
    "    \"alpha\": [2],\n",
    "}\n",
    "\n",
    "skf = StratifiedKFold(n_splits=N_SPLITS)\n",
    "splits = skf.split(X, y)\n",
    "\n",
    "metrics = dict()\n",
    "\n",
    "for train_index, test_index in splits:\n",
    "    \n",
    "    for k in grid[\"k\"]:\n",
    "        for a in grid[\"alpha\"]:\n",
    "            \n",
    "            print(f\"Running gridsearch for: k={k} - alpha={a}\")\n",
    "            \n",
    "            _x_train, _y_train = X[train_index], y[train_index]\n",
    "            _x_test, _y_test = X[test_index], y[test_index]\n",
    "            \n",
    "            _pca, _knn = PCA(alpha=a), KNNClassifier(k=k)\n",
    "            \n",
    "            _pca.fit(_x_train)\n",
    "            _x_train_transformed = _pca.transform(_x_train)\n",
    "            _knn.fit(_x_train_transformed, _y_train)\n",
    "            \n",
    "            _x_test_transformed = _pca.transform(_x_test)\n",
    "            \n",
    "            _pred = _knn.predict(_x_test_transformed)\n",
    "            \n",
    "            _metric = accuracy_score(_y_test, _pred)\n",
    "            print(f\"Score: {_metric}\")\n",
    "            metrics[f\"{k} - {a}\"] =  _metric"
   ]
  },
  {
   "cell_type": "code",
   "execution_count": null,
   "id": "f6009ed9-5512-401a-93f3-2fec4653756b",
   "metadata": {},
   "outputs": [],
   "source": []
  }
 ],
 "metadata": {
  "kernelspec": {
   "display_name": "Python 3 (ipykernel)",
   "language": "python",
   "name": "python3"
  },
  "language_info": {
   "codemirror_mode": {
    "name": "ipython",
    "version": 3
   },
   "file_extension": ".py",
   "mimetype": "text/x-python",
   "name": "python",
   "nbconvert_exporter": "python",
   "pygments_lexer": "ipython3",
   "version": "3.10.4+"
  }
 },
 "nbformat": 4,
 "nbformat_minor": 5
}
